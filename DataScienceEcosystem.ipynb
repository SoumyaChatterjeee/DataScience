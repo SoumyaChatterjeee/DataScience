{
 "cells": [
  {
   "cell_type": "markdown",
   "id": "9befc08b-ea99-4b49-ae69-cd12e1860c35",
   "metadata": {},
   "source": [
    "# Data Science Tools and Ecosystem"
   ]
  },
  {
   "cell_type": "markdown",
   "id": "9cb9ee5c-7d40-4c81-9fbe-570cc470b8ce",
   "metadata": {},
   "source": [
    "In this notebook, Data Science Tools and Ecosystem are summarized."
   ]
  },
  {
   "cell_type": "markdown",
   "id": "0f24e11c-070a-42fb-80ff-4b070627b925",
   "metadata": {},
   "source": [
    "#### Objectives:\n",
    "* List popular Languages for Data Science\n",
    "* List commonly used libraries used by Data Scientists\n",
    "* List popular IDEs "
   ]
  },
  {
   "cell_type": "markdown",
   "id": "0b8b480d-61bf-4dbd-9ec4-4119481b2183",
   "metadata": {},
   "source": [
    "Some of the popular languages that Data Scientists use are:\n",
    "1. Python\n",
    "2. R\n",
    "3. SQL"
   ]
  },
  {
   "cell_type": "markdown",
   "id": "f0d2b272-b3de-4279-bb61-6e0053f290d2",
   "metadata": {},
   "source": [
    "Some of the commonly used libraries used by Data Scientists include:\n",
    "1. Pandas \n",
    "2. NumPy\n",
    "3. Matplotlib"
   ]
  },
  {
   "cell_type": "markdown",
   "id": "6f7872f4-ae72-40dd-af51-f37e65aff1e4",
   "metadata": {},
   "source": [
    "| Data Science Tools |\n",
    "|--------------------|\n",
    "| Jupyter |\n",
    "| RStudio |\n",
    "| VS Code |"
   ]
  },
  {
   "cell_type": "markdown",
   "id": "b40ed065-764c-4c0e-a490-1fa05a09c22c",
   "metadata": {},
   "source": [
    "### Below are a few Examples of evaluating arithmetic expressions in Python"
   ]
  },
  {
   "cell_type": "code",
   "execution_count": 4,
   "id": "1b0dcdaa-470e-4d6c-8443-d4c8f09a7131",
   "metadata": {
    "tags": []
   },
   "outputs": [
    {
     "data": {
      "text/plain": [
       "17"
      ]
     },
     "execution_count": 4,
     "metadata": {},
     "output_type": "execute_result"
    }
   ],
   "source": [
    "# This is a simple arithmetic expression to multiply then add itegers\n",
    "(3*4)+5"
   ]
  },
  {
   "cell_type": "code",
   "execution_count": 6,
   "id": "06763b69-4bcd-4dde-aa2d-ce7740e1243a",
   "metadata": {
    "tags": []
   },
   "outputs": [
    {
     "data": {
      "text/plain": [
       "3.3333333333333335"
      ]
     },
     "execution_count": 6,
     "metadata": {},
     "output_type": "execute_result"
    }
   ],
   "source": [
    "# This will convert 200 mintues to hours by dividing by 60\n",
    "200/60"
   ]
  },
  {
   "cell_type": "markdown",
   "id": "879596ee-55ee-438a-aa4a-62ccf16c7aab",
   "metadata": {},
   "source": [
    "## Author \n",
    "Soumya Chatterjee"
   ]
  },
  {
   "cell_type": "code",
   "execution_count": null,
   "id": "b07ce614-0c07-425a-ada0-fe2a2728b443",
   "metadata": {},
   "outputs": [],
   "source": []
  }
 ],
 "metadata": {
  "kernelspec": {
   "display_name": "Python",
   "language": "python",
   "name": "conda-env-python-py"
  },
  "language_info": {
   "codemirror_mode": {
    "name": "ipython",
    "version": 3
   },
   "file_extension": ".py",
   "mimetype": "text/x-python",
   "name": "python",
   "nbconvert_exporter": "python",
   "pygments_lexer": "ipython3",
   "version": "3.7.12"
  }
 },
 "nbformat": 4,
 "nbformat_minor": 5
}
